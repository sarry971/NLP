{
 "cells": [
  {
   "cell_type": "code",
   "execution_count": 1,
   "metadata": {},
   "outputs": [],
   "source": [
    "import nltk"
   ]
  },
  {
   "cell_type": "code",
   "execution_count": 2,
   "metadata": {},
   "outputs": [
    {
     "name": "stdout",
     "output_type": "stream",
     "text": [
      "(S\n",
      "  (NP the/DT little/JJ yellow/JJ dog/NN)\n",
      "  barked/VBD\n",
      "  at/IN\n",
      "  (NP the/DT cat/NN))\n"
     ]
    }
   ],
   "source": [
    "sentence = [(\"the\", \"DT\"), (\"little\", \"JJ\"), (\"yellow\", \"JJ\"),(\"dog\", \"NN\"), (\"barked\", \"VBD\"), (\"at\", \"IN\"), (\"the\", \"DT\"), (\"cat\", \"NN\")]\n",
    "grammar = \"NP: {<DT>?<JJ>*<NN>}\"\n",
    "#productions for CFG for NP and VP\n",
    "c = nltk.RegexpParser(grammar)\n",
    "result = c.parse(sentence)\n",
    "print(result)\n"
   ]
  },
  {
   "cell_type": "code",
   "execution_count": 8,
   "metadata": {},
   "outputs": [],
   "source": [
    "result.draw()"
   ]
  },
  {
   "cell_type": "markdown",
   "metadata": {},
   "source": [
    "# extracting NP"
   ]
  },
  {
   "cell_type": "code",
   "execution_count": 24,
   "metadata": {},
   "outputs": [
    {
     "name": "stdout",
     "output_type": "stream",
     "text": [
      "['now we are engaged in a great civil war', 'testing whether that nation', 'or any nation so conceived and so dedicated', 'can long endure']\n"
     ]
    }
   ],
   "source": [
    "#sentence read by sushan\n",
    "\n",
    "sentences =\"Now we are engaged in a great civil war, testing whether that nation, or any nation so conceived and so dedicated, can long endure\"\n",
    "sentences= sentences.lower()\n",
    "\n",
    "\n",
    "\n",
    "from nltk.tokenize import sent_tokenize\n",
    "from nltk.corpus import stopwords \n",
    "\n",
    "sents = list(sentences.split(\", \"))\n",
    "print (sents)\n"
   ]
  },
  {
   "cell_type": "code",
   "execution_count": 30,
   "metadata": {},
   "outputs": [
    {
     "name": "stdout",
     "output_type": "stream",
     "text": [
      "(S engaged/VBN (NP great/JJ civil/JJ war/NN))\n",
      "\n",
      "(S testing/VBG whether/IN (NP nation/NN))\n",
      "\n",
      "(S (NP nation/NN) conceived/VBD dedicated/JJ)\n",
      "\n",
      "(S (NP long/JJ endure/NN))\n",
      "\n"
     ]
    }
   ],
   "source": [
    "\n",
    "stop_words = set(stopwords.words('english'))\n",
    "\n",
    "for i in range(len(sents)):\n",
    "    tokenized = sent_tokenize(sents[i]) \n",
    "    for sent in tokenized:\n",
    "        word_list = nltk.word_tokenize(sent)\n",
    "        word_list = [s for s in word_list if not s in stop_words]\n",
    "        sent_pos = nltk.pos_tag(word_list)\n",
    "    grammar = \"NP: {<DT>?<JJ>*<NN>}\"\n",
    "    c = nltk.RegexpParser(grammar)\n",
    "    result = c.parse(sent_pos)\n",
    "    print(result)\n",
    "    print()"
   ]
  },
  {
   "cell_type": "code",
   "execution_count": 31,
   "metadata": {},
   "outputs": [],
   "source": [
    "result.draw()"
   ]
  }
 ],
 "metadata": {
  "kernelspec": {
   "display_name": "Python 3",
   "language": "python",
   "name": "python3"
  },
  "language_info": {
   "codemirror_mode": {
    "name": "ipython",
    "version": 3
   },
   "file_extension": ".py",
   "mimetype": "text/x-python",
   "name": "python",
   "nbconvert_exporter": "python",
   "pygments_lexer": "ipython3",
   "version": "3.7.6"
  }
 },
 "nbformat": 4,
 "nbformat_minor": 4
}
