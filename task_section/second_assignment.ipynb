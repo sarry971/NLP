{
 "cells": [
  {
   "cell_type": "markdown",
   "metadata": {},
   "source": [
    "# Task 1 - Lexicons\n",
    "a) Stopwords"
   ]
  },
  {
   "cell_type": "code",
   "execution_count": 1,
   "metadata": {},
   "outputs": [
    {
     "data": {
      "text/plain": [
       "['i',\n",
       " 'me',\n",
       " 'my',\n",
       " 'myself',\n",
       " 'we',\n",
       " 'our',\n",
       " 'ours',\n",
       " 'ourselves',\n",
       " 'you',\n",
       " \"you're\",\n",
       " \"you've\",\n",
       " \"you'll\",\n",
       " \"you'd\",\n",
       " 'your',\n",
       " 'yours',\n",
       " 'yourself',\n",
       " 'yourselves',\n",
       " 'he',\n",
       " 'him',\n",
       " 'his',\n",
       " 'himself',\n",
       " 'she',\n",
       " \"she's\",\n",
       " 'her',\n",
       " 'hers',\n",
       " 'herself',\n",
       " 'it',\n",
       " \"it's\",\n",
       " 'its',\n",
       " 'itself',\n",
       " 'they',\n",
       " 'them',\n",
       " 'their',\n",
       " 'theirs',\n",
       " 'themselves',\n",
       " 'what',\n",
       " 'which',\n",
       " 'who',\n",
       " 'whom',\n",
       " 'this',\n",
       " 'that',\n",
       " \"that'll\",\n",
       " 'these',\n",
       " 'those',\n",
       " 'am',\n",
       " 'is',\n",
       " 'are',\n",
       " 'was',\n",
       " 'were',\n",
       " 'be',\n",
       " 'been',\n",
       " 'being',\n",
       " 'have',\n",
       " 'has',\n",
       " 'had',\n",
       " 'having',\n",
       " 'do',\n",
       " 'does',\n",
       " 'did',\n",
       " 'doing',\n",
       " 'a',\n",
       " 'an',\n",
       " 'the',\n",
       " 'and',\n",
       " 'but',\n",
       " 'if',\n",
       " 'or',\n",
       " 'because',\n",
       " 'as',\n",
       " 'until',\n",
       " 'while',\n",
       " 'of',\n",
       " 'at',\n",
       " 'by',\n",
       " 'for',\n",
       " 'with',\n",
       " 'about',\n",
       " 'against',\n",
       " 'between',\n",
       " 'into',\n",
       " 'through',\n",
       " 'during',\n",
       " 'before',\n",
       " 'after',\n",
       " 'above',\n",
       " 'below',\n",
       " 'to',\n",
       " 'from',\n",
       " 'up',\n",
       " 'down',\n",
       " 'in',\n",
       " 'out',\n",
       " 'on',\n",
       " 'off',\n",
       " 'over',\n",
       " 'under',\n",
       " 'again',\n",
       " 'further',\n",
       " 'then',\n",
       " 'once',\n",
       " 'here',\n",
       " 'there',\n",
       " 'when',\n",
       " 'where',\n",
       " 'why',\n",
       " 'how',\n",
       " 'all',\n",
       " 'any',\n",
       " 'both',\n",
       " 'each',\n",
       " 'few',\n",
       " 'more',\n",
       " 'most',\n",
       " 'other',\n",
       " 'some',\n",
       " 'such',\n",
       " 'no',\n",
       " 'nor',\n",
       " 'not',\n",
       " 'only',\n",
       " 'own',\n",
       " 'same',\n",
       " 'so',\n",
       " 'than',\n",
       " 'too',\n",
       " 'very',\n",
       " 's',\n",
       " 't',\n",
       " 'can',\n",
       " 'will',\n",
       " 'just',\n",
       " 'don',\n",
       " \"don't\",\n",
       " 'should',\n",
       " \"should've\",\n",
       " 'now',\n",
       " 'd',\n",
       " 'll',\n",
       " 'm',\n",
       " 'o',\n",
       " 're',\n",
       " 've',\n",
       " 'y',\n",
       " 'ain',\n",
       " 'aren',\n",
       " \"aren't\",\n",
       " 'couldn',\n",
       " \"couldn't\",\n",
       " 'didn',\n",
       " \"didn't\",\n",
       " 'doesn',\n",
       " \"doesn't\",\n",
       " 'hadn',\n",
       " \"hadn't\",\n",
       " 'hasn',\n",
       " \"hasn't\",\n",
       " 'haven',\n",
       " \"haven't\",\n",
       " 'isn',\n",
       " \"isn't\",\n",
       " 'ma',\n",
       " 'mightn',\n",
       " \"mightn't\",\n",
       " 'mustn',\n",
       " \"mustn't\",\n",
       " 'needn',\n",
       " \"needn't\",\n",
       " 'shan',\n",
       " \"shan't\",\n",
       " 'shouldn',\n",
       " \"shouldn't\",\n",
       " 'wasn',\n",
       " \"wasn't\",\n",
       " 'weren',\n",
       " \"weren't\",\n",
       " 'won',\n",
       " \"won't\",\n",
       " 'wouldn',\n",
       " \"wouldn't\"]"
      ]
     },
     "execution_count": 1,
     "metadata": {},
     "output_type": "execute_result"
    }
   ],
   "source": [
    "#1. Stopwords\n",
    "from nltk.corpus import stopwords\n",
    "stopwords.words('English')"
   ]
  },
  {
   "cell_type": "markdown",
   "metadata": {},
   "source": [
    "# b) CMU wordlist"
   ]
  },
  {
   "cell_type": "code",
   "execution_count": 4,
   "metadata": {},
   "outputs": [
    {
     "data": {
      "text/plain": [
       "133737"
      ]
     },
     "execution_count": 4,
     "metadata": {},
     "output_type": "execute_result"
    }
   ],
   "source": [
    "#2. CMU Wordlist\n",
    "import nltk\n",
    "entries = nltk.corpus.cmudict.entries()\n",
    "len(entries)"
   ]
  },
  {
   "cell_type": "code",
   "execution_count": 3,
   "metadata": {},
   "outputs": [
    {
     "data": {
      "text/plain": [
       "[('a', ['AH0']),\n",
       " ('a.', ['EY1']),\n",
       " ('a', ['EY1']),\n",
       " ('a42128',\n",
       "  ['EY1',\n",
       "   'F',\n",
       "   'AO1',\n",
       "   'R',\n",
       "   'T',\n",
       "   'UW1',\n",
       "   'W',\n",
       "   'AH1',\n",
       "   'N',\n",
       "   'T',\n",
       "   'UW1',\n",
       "   'EY1',\n",
       "   'T']),\n",
       " ('aaa', ['T', 'R', 'IH2', 'P', 'AH0', 'L', 'EY1']),\n",
       " ('aaberg', ['AA1', 'B', 'ER0', 'G']),\n",
       " ('aachen', ['AA1', 'K', 'AH0', 'N']),\n",
       " ('aachener', ['AA1', 'K', 'AH0', 'N', 'ER0']),\n",
       " ('aaker', ['AA1', 'K', 'ER0']),\n",
       " ('aalseth', ['AA1', 'L', 'S', 'EH0', 'TH']),\n",
       " ('aamodt', ['AA1', 'M', 'AH0', 'T']),\n",
       " ('aancor', ['AA1', 'N', 'K', 'AO2', 'R']),\n",
       " ('aardema', ['AA0', 'R', 'D', 'EH1', 'M', 'AH0']),\n",
       " ('aardvark', ['AA1', 'R', 'D', 'V', 'AA2', 'R', 'K']),\n",
       " ('aaron', ['EH1', 'R', 'AH0', 'N']),\n",
       " (\"aaron's\", ['EH1', 'R', 'AH0', 'N', 'Z']),\n",
       " ('aarons', ['EH1', 'R', 'AH0', 'N', 'Z']),\n",
       " ('aaronson', ['EH1', 'R', 'AH0', 'N', 'S', 'AH0', 'N']),\n",
       " ('aaronson', ['AA1', 'R', 'AH0', 'N', 'S', 'AH0', 'N']),\n",
       " (\"aaronson's\", ['EH1', 'R', 'AH0', 'N', 'S', 'AH0', 'N', 'Z']),\n",
       " (\"aaronson's\", ['AA1', 'R', 'AH0', 'N', 'S', 'AH0', 'N', 'Z']),\n",
       " ('aarti', ['AA1', 'R', 'T', 'IY2']),\n",
       " ('aase', ['AA1', 'S']),\n",
       " ('aasen', ['AA1', 'S', 'AH0', 'N']),\n",
       " ('ab', ['AE1', 'B']),\n",
       " ('ab', ['EY1', 'B', 'IY1']),\n",
       " ('ababa', ['AH0', 'B', 'AA1', 'B', 'AH0']),\n",
       " ('ababa', ['AA1', 'B', 'AH0', 'B', 'AH0']),\n",
       " ('abacha', ['AE1', 'B', 'AH0', 'K', 'AH0']),\n",
       " ('aback', ['AH0', 'B', 'AE1', 'K']),\n",
       " ('abaco', ['AE1', 'B', 'AH0', 'K', 'OW2']),\n",
       " ('abacus', ['AE1', 'B', 'AH0', 'K', 'AH0', 'S']),\n",
       " ('abad', ['AH0', 'B', 'AA1', 'D']),\n",
       " ('abadaka', ['AH0', 'B', 'AE1', 'D', 'AH0', 'K', 'AH0']),\n",
       " ('abadi', ['AH0', 'B', 'AE1', 'D', 'IY0']),\n",
       " ('abadie', ['AH0', 'B', 'AE1', 'D', 'IY0']),\n",
       " ('abair', ['AH0', 'B', 'EH1', 'R']),\n",
       " ('abalkin', ['AH0', 'B', 'AA1', 'L', 'K', 'IH0', 'N']),\n",
       " ('abalone', ['AE2', 'B', 'AH0', 'L', 'OW1', 'N', 'IY0']),\n",
       " ('abalos', ['AA0', 'B', 'AA1', 'L', 'OW0', 'Z']),\n",
       " ('abandon', ['AH0', 'B', 'AE1', 'N', 'D', 'AH0', 'N']),\n",
       " ('abandoned', ['AH0', 'B', 'AE1', 'N', 'D', 'AH0', 'N', 'D']),\n",
       " ('abandoning', ['AH0', 'B', 'AE1', 'N', 'D', 'AH0', 'N', 'IH0', 'NG']),\n",
       " ('abandonment',\n",
       "  ['AH0', 'B', 'AE1', 'N', 'D', 'AH0', 'N', 'M', 'AH0', 'N', 'T']),\n",
       " ('abandonments',\n",
       "  ['AH0', 'B', 'AE1', 'N', 'D', 'AH0', 'N', 'M', 'AH0', 'N', 'T', 'S']),\n",
       " ('abandons', ['AH0', 'B', 'AE1', 'N', 'D', 'AH0', 'N', 'Z']),\n",
       " ('abanto', ['AH0', 'B', 'AE1', 'N', 'T', 'OW0']),\n",
       " ('abarca', ['AH0', 'B', 'AA1', 'R', 'K', 'AH0']),\n",
       " ('abare', ['AA0', 'B', 'AA1', 'R', 'IY0']),\n",
       " ('abascal', ['AE1', 'B', 'AH0', 'S', 'K', 'AH0', 'L'])]"
      ]
     },
     "execution_count": 3,
     "metadata": {},
     "output_type": "execute_result"
    }
   ],
   "source": [
    "entries[:50]"
   ]
  },
  {
   "cell_type": "markdown",
   "metadata": {},
   "source": [
    "# c) WordNet"
   ]
  },
  {
   "cell_type": "code",
   "execution_count": 8,
   "metadata": {},
   "outputs": [
    {
     "data": {
      "text/plain": [
       "[Synset('better.n.01'),\n",
       " Synset('bettor.n.01'),\n",
       " Synset('better.n.03'),\n",
       " Synset('better.n.04'),\n",
       " Synset('better.v.01'),\n",
       " Synset('better.v.02'),\n",
       " Synset('better.v.03'),\n",
       " Synset('better.a.01'),\n",
       " Synset('better.a.02'),\n",
       " Synset('better.s.03'),\n",
       " Synset('better.s.04'),\n",
       " Synset('good.a.01'),\n",
       " Synset('full.s.06'),\n",
       " Synset('good.a.03'),\n",
       " Synset('estimable.s.02'),\n",
       " Synset('beneficial.s.01'),\n",
       " Synset('good.s.06'),\n",
       " Synset('good.s.07'),\n",
       " Synset('adept.s.01'),\n",
       " Synset('good.s.09'),\n",
       " Synset('dear.s.02'),\n",
       " Synset('dependable.s.04'),\n",
       " Synset('good.s.12'),\n",
       " Synset('good.s.13'),\n",
       " Synset('effective.s.04'),\n",
       " Synset('good.s.15'),\n",
       " Synset('good.s.16'),\n",
       " Synset('good.s.17'),\n",
       " Synset('good.s.18'),\n",
       " Synset('good.s.19'),\n",
       " Synset('good.s.20'),\n",
       " Synset('good.s.21'),\n",
       " Synset('well.a.01'),\n",
       " Synset('good.s.13'),\n",
       " Synset('well.s.03'),\n",
       " Synset('better.r.01'),\n",
       " Synset('better.r.02'),\n",
       " Synset('well.r.01'),\n",
       " Synset('well.r.02'),\n",
       " Synset('well.r.03'),\n",
       " Synset('well.r.04'),\n",
       " Synset('well.r.05'),\n",
       " Synset('well.r.06'),\n",
       " Synset('well.r.07'),\n",
       " Synset('well.r.08'),\n",
       " Synset('well.r.09'),\n",
       " Synset('well.r.10'),\n",
       " Synset('well.r.11'),\n",
       " Synset('well.r.12'),\n",
       " Synset('well.r.13')]"
      ]
     },
     "execution_count": 8,
     "metadata": {},
     "output_type": "execute_result"
    }
   ],
   "source": [
    "import nltk\n",
    "from nltk.corpus import wordnet as wn\n",
    "wn.synsets('better')"
   ]
  },
  {
   "cell_type": "code",
   "execution_count": 10,
   "metadata": {},
   "outputs": [
    {
     "data": {
      "text/plain": [
       "['good']"
      ]
     },
     "execution_count": 10,
     "metadata": {},
     "output_type": "execute_result"
    }
   ],
   "source": [
    "wn.synset('good.s.15').lemma_names()"
   ]
  },
  {
   "cell_type": "code",
   "execution_count": 11,
   "metadata": {},
   "outputs": [
    {
     "data": {
      "text/plain": [
       "[Synset('goose.n.01'),\n",
       " Synset('fathead.n.01'),\n",
       " Synset('goose.n.03'),\n",
       " Synset('goose.v.01'),\n",
       " Synset('goose.v.02'),\n",
       " Synset('goose.v.03')]"
      ]
     },
     "execution_count": 11,
     "metadata": {},
     "output_type": "execute_result"
    }
   ],
   "source": [
    "wn.synsets('goose')"
   ]
  },
  {
   "cell_type": "code",
   "execution_count": 12,
   "metadata": {},
   "outputs": [
    {
     "data": {
      "text/plain": [
       "['goose']"
      ]
     },
     "execution_count": 12,
     "metadata": {},
     "output_type": "execute_result"
    }
   ],
   "source": [
    "wn.synset('goose.n.03').lemma_names()"
   ]
  },
  {
   "cell_type": "markdown",
   "metadata": {},
   "source": [
    "# Task 2- Stemming"
   ]
  },
  {
   "cell_type": "markdown",
   "metadata": {},
   "source": [
    "# a) Porter"
   ]
  },
  {
   "cell_type": "code",
   "execution_count": 14,
   "metadata": {},
   "outputs": [
    {
     "data": {
      "text/plain": [
       "'even'"
      ]
     },
     "execution_count": 14,
     "metadata": {},
     "output_type": "execute_result"
    }
   ],
   "source": [
    "import nltk\n",
    "from nltk import PorterStemmer\n",
    "sp = PorterStemmer()\n",
    "sp.stem('evening')"
   ]
  },
  {
   "cell_type": "code",
   "execution_count": 15,
   "metadata": {},
   "outputs": [
    {
     "data": {
      "text/plain": [
       "'happi'"
      ]
     },
     "execution_count": 15,
     "metadata": {},
     "output_type": "execute_result"
    }
   ],
   "source": [
    "sp.stem('happiness')"
   ]
  },
  {
   "cell_type": "code",
   "execution_count": 16,
   "metadata": {},
   "outputs": [
    {
     "data": {
      "text/plain": [
       "'gees'"
      ]
     },
     "execution_count": 16,
     "metadata": {},
     "output_type": "execute_result"
    }
   ],
   "source": [
    "sp.stem('geese')"
   ]
  },
  {
   "cell_type": "markdown",
   "metadata": {},
   "source": [
    "# b) Lancaster"
   ]
  },
  {
   "cell_type": "code",
   "execution_count": 17,
   "metadata": {},
   "outputs": [
    {
     "data": {
      "text/plain": [
       "'happy'"
      ]
     },
     "execution_count": 17,
     "metadata": {},
     "output_type": "execute_result"
    }
   ],
   "source": [
    "import nltk\n",
    "from nltk import LancasterStemmer\n",
    "sl = LancasterStemmer()\n",
    "sl.stem('happiness')"
   ]
  },
  {
   "cell_type": "code",
   "execution_count": 18,
   "metadata": {},
   "outputs": [
    {
     "data": {
      "text/plain": [
       "'gees'"
      ]
     },
     "execution_count": 18,
     "metadata": {},
     "output_type": "execute_result"
    }
   ],
   "source": [
    "sl.stem('geese')"
   ]
  },
  {
   "cell_type": "markdown",
   "metadata": {},
   "source": [
    "# c) Regexp"
   ]
  },
  {
   "cell_type": "code",
   "execution_count": 19,
   "metadata": {},
   "outputs": [
    {
     "data": {
      "text/plain": [
       "'danc'"
      ]
     },
     "execution_count": 19,
     "metadata": {},
     "output_type": "execute_result"
    }
   ],
   "source": [
    "from nltk.stem import RegexpStemmer\n",
    "stem_reg_exp = RegexpStemmer('ing')\n",
    "stem_reg_exp.stem('dancing')"
   ]
  },
  {
   "cell_type": "code",
   "execution_count": 20,
   "metadata": {},
   "outputs": [
    {
     "data": {
      "text/plain": [
       "'s'"
      ]
     },
     "execution_count": 20,
     "metadata": {},
     "output_type": "execute_result"
    }
   ],
   "source": [
    "stem_reg_exp.stem('singing')"
   ]
  },
  {
   "cell_type": "markdown",
   "metadata": {},
   "source": [
    "# d) Snowball"
   ]
  },
  {
   "cell_type": "code",
   "execution_count": 21,
   "metadata": {},
   "outputs": [
    {
     "data": {
      "text/plain": [
       "'mang'"
      ]
     },
     "execution_count": 21,
     "metadata": {},
     "output_type": "execute_result"
    }
   ],
   "source": [
    "from nltk.stem import SnowballStemmer\n",
    "SnowballStemmer.languages\n",
    "stem_snowball = SnowballStemmer('french')\n",
    "stem_snowball.stem('manges')"
   ]
  },
  {
   "cell_type": "code",
   "execution_count": 25,
   "metadata": {},
   "outputs": [
    {
     "name": "stdout",
     "output_type": "stream",
     "text": [
      "nlp is use as a method of person develop through promot skills, such as self-reflection, confidence, and commun\n"
     ]
    }
   ],
   "source": [
    "from nltk.stem import PorterStemmer\n",
    "stem_porter = PorterStemmer()\n",
    "textbox = \"NLP is used as a method of personal development through promoting skills, such as self-reflection, confidence, and communication\"\n",
    "textbox = [stem_porter.stem(token) for token in textbox.split(\" \")]\n",
    "print (\" \".join(textbox))"
   ]
  },
  {
   "cell_type": "markdown",
   "metadata": {},
   "source": [
    "# Chinese Segmentation using Jieba"
   ]
  },
  {
   "cell_type": "code",
   "execution_count": 27,
   "metadata": {},
   "outputs": [
    {
     "name": "stdout",
     "output_type": "stream",
     "text": [
      "Requirement already satisfied: jieba in c:\\users\\saurab\\anaconda3\\lib\\site-packages (0.42.1)\n"
     ]
    }
   ],
   "source": [
    "!pip install jieba"
   ]
  },
  {
   "cell_type": "code",
   "execution_count": 29,
   "metadata": {},
   "outputs": [
    {
     "name": "stderr",
     "output_type": "stream",
     "text": [
      "Building prefix dict from the default dictionary ...\n",
      "Dumping model to file cache C:\\Users\\Saurab\\AppData\\Local\\Temp\\jieba.cache\n",
      "Loading model cost 2.402 seconds.\n",
      "Prefix dict has been built successfully.\n"
     ]
    },
    {
     "name": "stdout",
     "output_type": "stream",
     "text": [
      "把 句子 中所 所有 的 可以 成 词 的 词语 都 扫描 描出 描出来 出来\n"
     ]
    }
   ],
   "source": [
    "import jieba\n",
    "segment = jieba.cut(\"把句子中所有的可以成词的词语都扫描出来\",cut_all = True)\n",
    "print (\" \".join(segment))"
   ]
  },
  {
   "cell_type": "code",
   "execution_count": null,
   "metadata": {},
   "outputs": [],
   "source": []
  }
 ],
 "metadata": {
  "kernelspec": {
   "display_name": "Python 3",
   "language": "python",
   "name": "python3"
  },
  "language_info": {
   "codemirror_mode": {
    "name": "ipython",
    "version": 3
   },
   "file_extension": ".py",
   "mimetype": "text/x-python",
   "name": "python",
   "nbconvert_exporter": "python",
   "pygments_lexer": "ipython3",
   "version": "3.7.6"
  }
 },
 "nbformat": 4,
 "nbformat_minor": 4
}
