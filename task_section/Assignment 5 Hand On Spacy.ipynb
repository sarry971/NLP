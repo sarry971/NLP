{
 "cells": [
  {
   "cell_type": "code",
   "execution_count": 2,
   "metadata": {},
   "outputs": [],
   "source": [
    "import spacy\n",
    "m = spacy.load('en_core_web_sm')"
   ]
  },
  {
   "cell_type": "code",
   "execution_count": 2,
   "metadata": {},
   "outputs": [],
   "source": [
    "example1 = \"Neuro-linguistic programming (NLP) is a pseudoscientific approach to communication, personal development, and psychotherapy created by Richard Bandler and John Grinder in California, United States, in the 1970s.\""
   ]
  },
  {
   "cell_type": "code",
   "execution_count": 3,
   "metadata": {},
   "outputs": [],
   "source": [
    "doc = m(example1)"
   ]
  },
  {
   "cell_type": "code",
   "execution_count": 24,
   "metadata": {},
   "outputs": [
    {
     "name": "stdout",
     "output_type": "stream",
     "text": [
      "U.S. = GPE\n",
      "International Travel = ORG\n",
      "U.S. = GPE\n",
      "Intercountry Adoption = PERSON\n"
     ]
    }
   ],
   "source": [
    "for ent in doc.ents:\n",
    "    print(ent.text,\"=\", ent.label_)"
   ]
  },
  {
   "cell_type": "code",
   "execution_count": 23,
   "metadata": {},
   "outputs": [
    {
     "name": "stdout",
     "output_type": "stream",
     "text": [
      "U.S. = GPE\n",
      "International Travel = ORG\n",
      "U.S. = GPE\n",
      "Intercountry Adoption = PERSON\n"
     ]
    }
   ],
   "source": [
    "example2 = \"Travel.State.Gov. Travel.State.Gov · Congressional Liaison · Special Issuance Agency · U.S. Passports · International Travel · U.S. Visas · Intercountry Adoption\"\n",
    "doc = m(example2)\n",
    "for ent in doc.ents:\n",
    "    print(ent.text,\"=\", ent.label_)"
   ]
  },
  {
   "cell_type": "code",
   "execution_count": 26,
   "metadata": {},
   "outputs": [
    {
     "name": "stdout",
     "output_type": "stream",
     "text": [
      "Ekbal = ORG\n",
      "Bandyopadyay = PERSON\n",
      "2008 = DATE\n",
      "10 = CARDINAL\n",
      "four = CARDINAL\n",
      "Bengali = NORP\n",
      "first = ORDINAL\n",
      "Bengali News Corpus = ORG\n",
      "35 = CARDINAL\n",
      "BIO = ORG\n",
      "POS = ORG\n",
      "Digit = PERSON\n",
      "NE = GPE\n",
      "First = ORDINAL\n"
     ]
    }
   ],
   "source": [
    "example3 =\"\"\"Ekbal and Bandyopadyay (2008) [10] have detected four major named entity tags such as person, location,\n",
    "organization and miscellaneous using support vector machine in Bengali language. The authors first converted\n",
    "NE tagged Bengali News Corpus [35] into BIO format and then applied Feature set which includes context word\n",
    "feature, word suffix feature, word prefix feature, POS feature, Digit features, NE tag of Previous word (dynamic\n",
    "feature), First word, various gazetteer lists. \"\"\"\n",
    "doc = m(example3)\n",
    "\n",
    "for ent in doc.ents:\n",
    "    print(ent.text,\"=\",ent.label_)"
   ]
  },
  {
   "cell_type": "markdown",
   "metadata": {},
   "source": [
    "# Word of art "
   ]
  },
  {
   "cell_type": "code",
   "execution_count": 8,
   "metadata": {},
   "outputs": [],
   "source": [
    "word_of_art = m(\"neuro surgeon\")\n",
    "\n",
    "for ent in word_of_art.ents:\n",
    "    print(ent.text, \"=\", ent.label_)"
   ]
  },
  {
   "cell_type": "markdown",
   "metadata": {},
   "source": [
    "# fac"
   ]
  },
  {
   "cell_type": "code",
   "execution_count": 11,
   "metadata": {},
   "outputs": [
    {
     "name": "stdout",
     "output_type": "stream",
     "text": [
      "Tom Bradsaw = PERSON\n",
      "London = GPE\n",
      "UK = GPE\n"
     ]
    }
   ],
   "source": [
    "fac = m(\"Tom Bradsaw from London, UK\")\n",
    "\n",
    "for ent in fac.ents:\n",
    "    print(ent.text,\"=\",ent.label_)"
   ]
  },
  {
   "cell_type": "markdown",
   "metadata": {},
   "source": [
    "# querying"
   ]
  },
  {
   "cell_type": "code",
   "execution_count": 29,
   "metadata": {},
   "outputs": [],
   "source": [
    "locs = [('Omnicom', 'IN', 'New York'),('DDB Needham', 'IN', 'New York'),('Kaplan Thaler Group', 'IN', 'New York'),('BBDO South', 'IN', 'Atlanta'), ('Georgia-Pacific', 'IN', 'Atlanta')]\n",
    "query = [e1 for (e1, rel, e2) in locs if e2=='Atlanta']"
   ]
  },
  {
   "cell_type": "code",
   "execution_count": 30,
   "metadata": {},
   "outputs": [
    {
     "data": {
      "text/plain": [
       "['BBDO South', 'Georgia-Pacific']"
      ]
     },
     "execution_count": 30,
     "metadata": {},
     "output_type": "execute_result"
    }
   ],
   "source": [
    "query"
   ]
  },
  {
   "cell_type": "markdown",
   "metadata": {},
   "source": [
    "# Domain Specific Jargon"
   ]
  },
  {
   "cell_type": "code",
   "execution_count": 19,
   "metadata": {},
   "outputs": [
    {
     "name": "stdout",
     "output_type": "stream",
     "text": [
      "the age of 60  =  DATE\n",
      "about one percent  =  PERCENT\n",
      "affected.[1][3  =  DATE\n",
      "around 3:2.[4  =  CARDINAL\n",
      "2015  =  DATE\n",
      "PD  =  ORG\n",
      "6.2 million  =  CARDINAL\n",
      "about 117,400  =  CARDINAL\n",
      "between 7 and 15 years  =  DATE\n"
     ]
    }
   ],
   "source": [
    "dsj = \"\"\"Diagnosis of typical cases is mainly based on symptoms, with tests such as neuroimaging used to rule out other diseases.[1] Parkinson's disease typically occurs in people over the age of 60, of whom about one percent are affected.[1][3] Males are more often affected than females at a ratio of around 3:2.[4] When it is seen in people before the age of 50, it is called early-onset PD.[11] In 2015, PD affected 6.2 million people and resulted in about 117,400 deaths globally.[7][8] The average life expectancy following diagnosis is between 7 and 15 years\"\"\"\n",
    "dsj1 = m(dsj)\n",
    "\n",
    "for ent in dsj1.ents:\n",
    "    print(ent.text,\" = \", ent.label_)"
   ]
  }
 ],
 "metadata": {
  "kernelspec": {
   "display_name": "Python 3",
   "language": "python",
   "name": "python3"
  },
  "language_info": {
   "codemirror_mode": {
    "name": "ipython",
    "version": 3
   },
   "file_extension": ".py",
   "mimetype": "text/x-python",
   "name": "python",
   "nbconvert_exporter": "python",
   "pygments_lexer": "ipython3",
   "version": "3.7.6"
  }
 },
 "nbformat": 4,
 "nbformat_minor": 4
}
