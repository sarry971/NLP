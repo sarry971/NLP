{
 "cells": [
  {
   "cell_type": "code",
   "execution_count": 1,
   "metadata": {},
   "outputs": [],
   "source": [
    "import spacy\n",
    "m = spacy.load('en_core_web_sm')"
   ]
  },
  {
   "cell_type": "code",
   "execution_count": 2,
   "metadata": {},
   "outputs": [],
   "source": [
    "example1 = \"Neuro-linguistic programming (NLP) is a pseudoscientific approach to communication, personal development, and psychotherapy created by Richard Bandler and John Grinder in California, United States, in the 1970s.\""
   ]
  },
  {
   "cell_type": "code",
   "execution_count": 3,
   "metadata": {},
   "outputs": [],
   "source": [
    "doc = m(example1)"
   ]
  },
  {
   "cell_type": "code",
   "execution_count": 24,
   "metadata": {},
   "outputs": [
    {
     "name": "stdout",
     "output_type": "stream",
     "text": [
      "U.S. = GPE\n",
      "International Travel = ORG\n",
      "U.S. = GPE\n",
      "Intercountry Adoption = PERSON\n"
     ]
    }
   ],
   "source": [
    "for ent in doc.ents:\n",
    "    print(ent.text,\"=\", ent.label_)"
   ]
  },
  {
   "cell_type": "code",
   "execution_count": 23,
   "metadata": {},
   "outputs": [
    {
     "name": "stdout",
     "output_type": "stream",
     "text": [
      "U.S. = GPE\n",
      "International Travel = ORG\n",
      "U.S. = GPE\n",
      "Intercountry Adoption = PERSON\n"
     ]
    }
   ],
   "source": [
    "example2 = \"Travel.State.Gov. Travel.State.Gov · Congressional Liaison · Special Issuance Agency · U.S. Passports · International Travel · U.S. Visas · Intercountry Adoption\"\n",
    "doc = m(example2)\n",
    "for ent in doc.ents:\n",
    "    print(ent.text,\"=\", ent.label_)"
   ]
  },
  {
   "cell_type": "code",
   "execution_count": 26,
   "metadata": {},
   "outputs": [
    {
     "name": "stdout",
     "output_type": "stream",
     "text": [
      "Ekbal = ORG\n",
      "Bandyopadyay = PERSON\n",
      "2008 = DATE\n",
      "10 = CARDINAL\n",
      "four = CARDINAL\n",
      "Bengali = NORP\n",
      "first = ORDINAL\n",
      "Bengali News Corpus = ORG\n",
      "35 = CARDINAL\n",
      "BIO = ORG\n",
      "POS = ORG\n",
      "Digit = PERSON\n",
      "NE = GPE\n",
      "First = ORDINAL\n"
     ]
    }
   ],
   "source": [
    "example3 =\"\"\"Ekbal and Bandyopadyay (2008) [10] have detected four major named entity tags such as person, location,\n",
    "organization and miscellaneous using support vector machine in Bengali language. The authors first converted\n",
    "NE tagged Bengali News Corpus [35] into BIO format and then applied Feature set which includes context word\n",
    "feature, word suffix feature, word prefix feature, POS feature, Digit features, NE tag of Previous word (dynamic\n",
    "feature), First word, various gazetteer lists. \"\"\"\n",
    "doc = m(example3)\n",
    "\n",
    "for ent in doc.ents:\n",
    "    print(ent.text,\"=\",ent.label_)"
   ]
  },
  {
   "cell_type": "code",
   "execution_count": 27,
   "metadata": {},
   "outputs": [],
   "source": [
    "#WORK_OF_ART(degrees, album names?) FAC (man-made structures) any other\n",
    "#try some domain specific jargon and see if our model handles it well!!"
   ]
  },
  {
   "cell_type": "code",
   "execution_count": 29,
   "metadata": {},
   "outputs": [],
   "source": [
    "#querying\n",
    "locs = [('Omnicom', 'IN', 'New York'),('DDB Needham', 'IN', 'New York'),('Kaplan Thaler Group', 'IN', 'New York'),('BBDO South', 'IN', 'Atlanta'), ('Georgia-Pacific', 'IN', 'Atlanta')]\n",
    "query = [e1 for (e1, rel, e2) in locs if e2=='Atlanta']"
   ]
  },
  {
   "cell_type": "code",
   "execution_count": 30,
   "metadata": {},
   "outputs": [
    {
     "data": {
      "text/plain": [
       "['BBDO South', 'Georgia-Pacific']"
      ]
     },
     "execution_count": 30,
     "metadata": {},
     "output_type": "execute_result"
    }
   ],
   "source": [
    "query"
   ]
  },
  {
   "cell_type": "code",
   "execution_count": null,
   "metadata": {},
   "outputs": [],
   "source": []
  }
 ],
 "metadata": {
  "kernelspec": {
   "display_name": "Python 3",
   "language": "python",
   "name": "python3"
  },
  "language_info": {
   "codemirror_mode": {
    "name": "ipython",
    "version": 3
   },
   "file_extension": ".py",
   "mimetype": "text/x-python",
   "name": "python",
   "nbconvert_exporter": "python",
   "pygments_lexer": "ipython3",
   "version": "3.7.6"
  }
 },
 "nbformat": 4,
 "nbformat_minor": 4
}
